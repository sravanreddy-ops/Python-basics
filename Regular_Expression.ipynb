{
  "nbformat": 4,
  "nbformat_minor": 0,
  "metadata": {
    "colab": {
      "provenance": []
    },
    "kernelspec": {
      "name": "python3",
      "display_name": "Python 3"
    },
    "language_info": {
      "name": "python"
    }
  },
  "cells": [
    {
      "cell_type": "markdown",
      "source": [
        "\n",
        "##carriage return\n"
      ],
      "metadata": {
        "id": "6q9re9vmB1s6"
      }
    },
    {
      "cell_type": "code",
      "source": [
        "print(\"i am going to \\nMalla Reddy College to learn the NLP\")"
      ],
      "metadata": {
        "colab": {
          "base_uri": "https://localhost:8080/"
        },
        "id": "WxTVCQMdA7RZ",
        "outputId": "9432383d-7dda-44f8-894f-3b6d4245ad49"
      },
      "execution_count": 3,
      "outputs": [
        {
          "output_type": "stream",
          "name": "stdout",
          "text": [
            "i am going to \n",
            "Malla Reddy College to learn the NLP\n"
          ]
        }
      ]
    },
    {
      "cell_type": "markdown",
      "source": [
        "##re.finditer()"
      ],
      "metadata": {
        "id": "cTETdfn1CFQI"
      }
    },
    {
      "cell_type": "code",
      "source": [
        "import re"
      ],
      "metadata": {
        "id": "kBDTZDXwCQST"
      },
      "execution_count": null,
      "outputs": []
    },
    {
      "cell_type": "markdown",
      "source": [
        "##Regular Expression"
      ],
      "metadata": {
        "id": "Y7Z3DUimCuC-"
      }
    },
    {
      "cell_type": "code",
      "source": [
        "import re"
      ],
      "metadata": {
        "id": "pEopDnAdCzTn"
      },
      "execution_count": 6,
      "outputs": []
    },
    {
      "cell_type": "markdown",
      "source": [
        "##re.match()"
      ],
      "metadata": {
        "id": "FbcgZwbAC-JB"
      }
    },
    {
      "cell_type": "code",
      "source": [
        "import re\n",
        "pattern=r'\\d+'\n",
        "string=\"james bond 007 wants to learn the java\"\n",
        "matching=re.match(pattern,string)\n",
        "matching"
      ],
      "metadata": {
        "id": "GT5qA9-IDGe6"
      },
      "execution_count": 24,
      "outputs": []
    },
    {
      "cell_type": "code",
      "source": [],
      "metadata": {
        "id": "UFzPE2EwDn-t"
      },
      "execution_count": null,
      "outputs": []
    },
    {
      "cell_type": "markdown",
      "source": [
        "##re.search"
      ],
      "metadata": {
        "id": "eT6ADLrCEc9S"
      }
    },
    {
      "cell_type": "code",
      "source": [
        "import re\n",
        "pattern=r'\\d+'\n",
        "string=\" james bond 007 wants to learn the java\"\n",
        "matching=re.search(pattern,string)\n",
        "matching.group()"
      ],
      "metadata": {
        "colab": {
          "base_uri": "https://localhost:8080/",
          "height": 35
        },
        "id": "sYYSLkghEf5Z",
        "outputId": "1ab8925c-02c6-4085-d08b-7d97a454710e"
      },
      "execution_count": 15,
      "outputs": [
        {
          "output_type": "execute_result",
          "data": {
            "text/plain": [
              "'007'"
            ],
            "application/vnd.google.colaboratory.intrinsic+json": {
              "type": "string"
            }
          },
          "metadata": {},
          "execution_count": 15
        }
      ]
    },
    {
      "cell_type": "markdown",
      "source": [
        "## re.findall()"
      ],
      "metadata": {
        "id": "arAx6EW_FmWa"
      }
    },
    {
      "cell_type": "code",
      "source": [
        "import re\n",
        "pattern=r'\\d+'\n",
        "string=\" james bond 007 wants 008 to learn856 the java\"\n",
        "matching=re.findall(pattern,string)\n",
        "matching"
      ],
      "metadata": {
        "colab": {
          "base_uri": "https://localhost:8080/"
        },
        "id": "w4dq6sTFE0MN",
        "outputId": "b68c12c4-7ce6-42a8-e2b9-fa118868a4f8"
      },
      "execution_count": 18,
      "outputs": [
        {
          "output_type": "execute_result",
          "data": {
            "text/plain": [
              "['007', '008', '856']"
            ]
          },
          "metadata": {},
          "execution_count": 18
        }
      ]
    },
    {
      "cell_type": "code",
      "source": [
        "import re\n",
        "pattern=r'\\d'\n",
        "string=\" james bond 007 wants 008 to learn856 the java\"\n",
        "matching=re.sub(pattern,\"*\",string)\n",
        "matching"
      ],
      "metadata": {
        "colab": {
          "base_uri": "https://localhost:8080/",
          "height": 35
        },
        "id": "XeMw41tjF5dR",
        "outputId": "3e347f29-94fa-42e5-b24b-460169891299"
      },
      "execution_count": 27,
      "outputs": [
        {
          "output_type": "execute_result",
          "data": {
            "text/plain": [
              "' james bond *** wants *** to learn*** the java'"
            ],
            "application/vnd.google.colaboratory.intrinsic+json": {
              "type": "string"
            }
          },
          "metadata": {},
          "execution_count": 27
        }
      ]
    },
    {
      "cell_type": "code",
      "source": [
        "# Test case\n",
        "text = \"\"\"\n",
        "Hello world! Contact us at info@example.com or support123@company.org. Follow us on social media: #AI #MachineLearning.\n",
        "Visit <a href=\"http://example.com\">our website</a> for more details. This is a test with number 1234.\n",
        "\"\"\""
      ],
      "metadata": {
        "id": "n22fFOLsHq94"
      },
      "execution_count": 28,
      "outputs": []
    },
    {
      "cell_type": "code",
      "source": [
        "emails=re.findall(r'\\b[A-Za-z0-9._%+-]+@[A-Za-z0-9.-]+\\.[A-Z|a-z]{2,}\\b',text)\n",
        "emails"
      ],
      "metadata": {
        "colab": {
          "base_uri": "https://localhost:8080/"
        },
        "id": "B7WqHJsaI1V5",
        "outputId": "dd66929b-91fe-4826-a9b3-23786f8c25d2"
      },
      "execution_count": 29,
      "outputs": [
        {
          "output_type": "execute_result",
          "data": {
            "text/plain": [
              "['info@example.com', 'support123@company.org']"
            ]
          },
          "metadata": {},
          "execution_count": 29
        }
      ]
    },
    {
      "cell_type": "code",
      "source": [
        "##hash tags\n",
        "hash_tags=re.findall(r'#\\w+',text)\n",
        "hash_tags"
      ],
      "metadata": {
        "colab": {
          "base_uri": "https://localhost:8080/"
        },
        "id": "lvSqI-TtKKOH",
        "outputId": "90224783-adea-4410-aa9d-4589ad69f1ed"
      },
      "execution_count": 30,
      "outputs": [
        {
          "output_type": "execute_result",
          "data": {
            "text/plain": [
              "['#AI', '#MachineLearning']"
            ]
          },
          "metadata": {},
          "execution_count": 30
        }
      ]
    },
    {
      "cell_type": "markdown",
      "source": [],
      "metadata": {
        "id": "edKW7_p2K2xN"
      }
    }
  ]
}